{
 "cells": [
  {
   "cell_type": "code",
   "execution_count": 9,
   "metadata": {},
   "outputs": [
    {
     "name": "stdout",
     "output_type": "stream",
     "text": [
      "All entries received correct input.\n"
     ]
    }
   ],
   "source": [
    "import re\n",
    "\n",
    "\n",
    "def inputs():\n",
    "    name = input(\"Enter your name (first and last name separated by a dot): \")\n",
    "    input_string = input(\"Enter an input string (digits only): \")\n",
    "    email = input(\"Enter your email address: \")\n",
    "    dob = input(\"Enter your date of birth (DD/MM/YYYY): \")\n",
    "    payment_option = input(\"Choose a payment option (Credit Card/Debit Card/PayPal): \")\n",
    "    phone = input(\"Enter Phone number  \")\n",
    "\n",
    "    name_pattern = r\"^[A-Za-z]+\\.[A-Za-z]+$\"\n",
    "    digit_pattern = r\"^\\d+$\"\n",
    "    email_pattern = r\"^[a-zA-Z0-9._%+-]+@[a-zA-Z0-9.-]+\\.[a-zA-Z]{2,}$\"\n",
    "    dob_pattern = r\"^\\d{2}/\\d{2}/\\d{4}$\"\n",
    "\n",
    "    if not re.match(name_pattern, name):\n",
    "        return \"Invalid name format. Please enter your first and last name separated by a dot (e.g., Pratham.M).\"\n",
    "\n",
    "    if not re.match(digit_pattern, input_string):\n",
    "        return \"Invalid input format. Please enter only digits.\"\n",
    "\n",
    "    if not re.match(email_pattern, email):\n",
    "        return \"Invalid email format. Please enter a valid email address (e.g., pratham@gmail.com).\"\n",
    "\n",
    "    if not re.match(dob_pattern, dob):\n",
    "        return \"Invalid date of birth format. Please enter in DD/MM/YYYY format.\"\n",
    "\n",
    "    if payment_option.lower() not in [\"credit card\", \"debit card\", \"paypal\"]:\n",
    "        return \"Invalid payment option. Please choose from Credit Card, Debit Card, or PayPal.\"\n",
    "\n",
    "    if not re.match(digit_pattern, phone):\n",
    "        return \"Invalid input format. Please enter only digits.\"\n",
    "\n",
    "    return \"All entries received correct input.\"\n",
    "\n",
    "\n",
    "result = inputs()\n",
    "print(result)"
   ]
  }
 ],
 "metadata": {
  "kernelspec": {
   "display_name": "Python 3",
   "language": "python",
   "name": "python3"
  },
  "language_info": {
   "codemirror_mode": {
    "name": "ipython",
    "version": 3
   },
   "file_extension": ".py",
   "mimetype": "text/x-python",
   "name": "python",
   "nbconvert_exporter": "python",
   "pygments_lexer": "ipython3",
   "version": "3.11.5"
  },
  "orig_nbformat": 4
 },
 "nbformat": 4,
 "nbformat_minor": 2
}
